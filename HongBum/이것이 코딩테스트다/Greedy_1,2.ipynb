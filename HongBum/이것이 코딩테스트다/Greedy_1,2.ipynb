{
 "cells": [
  {
   "cell_type": "markdown",
   "metadata": {},
   "source": [
    "# 그리디 알고리즘 - 탐욕법"
   ]
  },
  {
   "cell_type": "markdown",
   "metadata": {},
   "source": [
    "특징  : \n",
    "##### '사전에 외우고 있지 않아도 풀 수 있을 가능성이 높은 문제 유형'\n",
    "##### 창의력, 즉 문제를 풀기 위한' 최소한의 아이디어를 떠올릴 능력을 요구'\n",
    "##### 특정한 문제를 만났을 때 단순히 현재 상황에서 가장 좋아 보이는 것만을 선택해도 문제를 풀 수 잇는지 확인할 것!"
   ]
  },
  {
   "cell_type": "markdown",
   "metadata": {},
   "source": [
    "## 거스름돈 문제"
   ]
  },
  {
   "cell_type": "code",
   "execution_count": 1,
   "metadata": {},
   "outputs": [
    {
     "name": "stdout",
     "output_type": "stream",
     "text": [
      "6\n"
     ]
    }
   ],
   "source": [
    "#변수 정의\n",
    "n = 1260\n",
    "count =0\n",
    "\n",
    "#큰 단위의 화폐부터 차례대로 확인하기\n",
    "array = [500, 100, 50, 10]\n",
    "\n",
    "for coin in array:\n",
    "    count += n //coin #해당 화폐로 거슬러 줄 수 있는 동전의 개수 세기\n",
    "    n %= coin # 남은 금액(나머지)를 반환\n",
    "\n",
    "print(count)    "
   ]
  },
  {
   "cell_type": "markdown",
   "metadata": {},
   "source": [
    "시간 복잡도 : O(K)\n",
    "이 알고리즘의 시간 복잡도는 거슬러줘야 하는 금액가는 무관하며 동전의 총 종류에만 영향을 받는다.\n",
    "### 그리드 알고리즘의 정당성 - 동전 던지기 문재\n",
    "가지고 있는 동전 중에서 큰 단위가 항상 작은 단위의 배수이므로 작은 단위의 동전들을 종합해 다른 해가 나올 수 없기 때문이다.\n",
    "만약 화폐의 단위가 무작위로 주어진 문제인 경우 \n",
    "'다이나믹 프로그래밍'을 이용하여 해결 가능하다!"
   ]
  },
  {
   "cell_type": "markdown",
   "metadata": {},
   "source": [
    "## 큰 수의 법칙 문제"
   ]
  },
  {
   "cell_type": "code",
   "execution_count": 9,
   "metadata": {},
   "outputs": [
    {
     "name": "stdin",
     "output_type": "stream",
     "text": [
      " 5 8 3\n",
      " 2 4 5 4 6\n"
     ]
    },
    {
     "name": "stdout",
     "output_type": "stream",
     "text": [
      "46\n"
     ]
    }
   ],
   "source": [
    "#방법 1\n",
    "#변수 입력\n",
    "#N, M , K를 공백으로 입력 받기\n",
    "N, M, K = map(int, input().split())\n",
    "#N개의 수를 공백으로 구분하여 입력받기\n",
    "number = list(map(int, input().split()))\n",
    "\n",
    "#합계 계산할 변수 지정\n",
    "sum = 0\n",
    "\n",
    "#입력받은 수들 정렬하기\n",
    "number.sort()\n",
    "first =  number[N-1] #가장 큰 수 \n",
    "second = number[N-2] #두 번째로 큰 수\n",
    "#합 계산\n",
    "while True:\n",
    "    for i in range(K): # 가장 큰 수를 K번 더하기\n",
    "        if M == 0: #M이 0이라면 탈출\n",
    "            break\n",
    "        sum += first \n",
    "        M -= 1 #더할 때마다 1씩 빼주기\n",
    "    if M == 0:\n",
    "        break\n",
    "    sum += second # 두 번째로 큰 수를 한 번 더하기\n",
    "    M -= 1 # 더할 때마다 1씩 빼기\n",
    "\n",
    "print(sum)"
   ]
  },
  {
   "cell_type": "markdown",
   "metadata": {},
   "source": [
    "느낀 점 : 우선 for, while , if 문으 섞어쓰는게 어려웠고, 두 번째로 큰수는 가장 큰 수가 더해진 후 한 번만 나오면 된다는 사실을 늦게 깨달았다..ㅜㅜ\n",
    "이를 이용한 while, for문을 합친 구조를 기억하자!!"
   ]
  },
  {
   "cell_type": "code",
   "execution_count": 5,
   "metadata": {},
   "outputs": [
    {
     "name": "stdin",
     "output_type": "stream",
     "text": [
      " 5 7 2\n",
      " 3 4 3 4 3\n"
     ]
    },
    {
     "name": "stdout",
     "output_type": "stream",
     "text": [
      "28\n"
     ]
    }
   ],
   "source": [
    "#방법 2\n",
    "#변수 입력\n",
    "#N, M , K를 공백으로 입력 받기\n",
    "N, M, K = map(int, input().split())\n",
    "#N개의 수를 공백으로 구분하여 입력받기\n",
    "number = list(map(int, input().split()))\n",
    "\n",
    "number.sort() # 입력 받은 수 정렬\n",
    "first = number[N-1] #가장 큰 수\n",
    "second = number[N-2] # 두 번째로 큰 수\n",
    "\n",
    "#가장 큰 수가 더해지는 횟수 계산\n",
    "count = int(M / K+1) * K\n",
    "count += M % (K+1)\n",
    "\n",
    "result = 0\n",
    "result += (count) * first # 가장 큰 수 더하기\n",
    "result += (M-count) * second #두 번째로 큰 수 더하기\n",
    "\n",
    "print(result)"
   ]
  },
  {
   "cell_type": "markdown",
   "metadata": {},
   "source": [
    "방법2의 키포인트는 반복되는 수열의 발견하는데 있다.\n",
    "반복되는 수열의 길이는 (K+1)이다. 따라서 수열이 반복되는 횟수는 M / (K+1)이다. 이를 통해서 가장 큰 수가 더해지는 횟수를 구하면 아래와 같다..\n",
    "##### int(M / (K+1)) * K + M % (K+1) 이렇게 설정해줄시 나누어떨어지지 않는 경우도 고려가 된다."
   ]
  },
  {
   "cell_type": "code",
   "execution_count": null,
   "metadata": {},
   "outputs": [],
   "source": []
  }
 ],
 "metadata": {
  "kernelspec": {
   "display_name": "Python 3",
   "language": "python",
   "name": "python3"
  },
  "language_info": {
   "codemirror_mode": {
    "name": "ipython",
    "version": 3
   },
   "file_extension": ".py",
   "mimetype": "text/x-python",
   "name": "python",
   "nbconvert_exporter": "python",
   "pygments_lexer": "ipython3",
   "version": "3.8.3"
  }
 },
 "nbformat": 4,
 "nbformat_minor": 4
}
