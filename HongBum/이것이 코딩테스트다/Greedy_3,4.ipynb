{
  "nbformat": 4,
  "nbformat_minor": 0,
  "metadata": {
    "colab": {
      "name": "Coding_test.ipynb",
      "provenance": [],
      "collapsed_sections": []
    },
    "kernelspec": {
      "name": "python3",
      "display_name": "Python 3"
    },
    "language_info": {
      "name": "python"
    }
  },
  "cells": [
    {
      "cell_type": "markdown",
      "source": [
        "#숫자 카드 게임"
      ],
      "metadata": {
        "id": "BcOSDyPclhc6"
      }
    },
    {
      "cell_type": "code",
      "source": [
        "n, m = map(int, input().split())\n",
        "\n",
        "result = 0\n",
        "\n",
        "for i in range(n):\n",
        "  data = list(map(int, input().split()))\n",
        "  minimum_row = min(data)\n",
        "  print(minimum_row)\n",
        "  result = max(result,minimum_row)\n",
        "  print(\"현재 가장 높은 값은 \" + str(result))\n",
        "print(result)"
      ],
      "metadata": {
        "colab": {
          "base_uri": "https://localhost:8080/"
        },
        "id": "E2tGgqMXic3V",
        "outputId": "908dff16-cc4d-412e-eaf1-a4911e340ed6"
      },
      "execution_count": 7,
      "outputs": [
        {
          "output_type": "stream",
          "name": "stdout",
          "text": [
            "2 4\n",
            "7 3 1 8\n",
            "1\n",
            "현재 가장 높은 값은 1\n",
            "3 3 3 4\n",
            "3\n",
            "현재 가장 높은 값은 3\n",
            "3\n"
          ]
        }
      ]
    },
    {
      "cell_type": "markdown",
      "source": [
        "## 1이 될 때까지"
      ],
      "metadata": {
        "id": "mks1UdKollCH"
      }
    },
    {
      "cell_type": "code",
      "source": [
        "n ,m = map(int, input().split())\n",
        "#반복 횟수\n",
        "result = 0\n",
        "while n > m:\n",
        "  # 정확히 나누어 떨어지지 않는 경우 1을 빼준다.\n",
        "  while n % m != 0:\n",
        "    n -= 1\n",
        "    result += 1\n",
        "  #몫만 구해진다. + 정확히 나누어 떨어지는 경우\n",
        "  n //= m\n",
        "  result += 1\n",
        "#마지막에 나누어떨어지지 않는 나머지가 생길수 있음 이를 처리해주는 코드 필요\n",
        "while n >1:\n",
        "  n -= 1\n",
        "  result += 1\n",
        "\n",
        "print(result)\n",
        "\n"
      ],
      "metadata": {
        "colab": {
          "base_uri": "https://localhost:8080/"
        },
        "id": "NfVCod9Ulnp2",
        "outputId": "fe6074fd-2943-4398-eecb-95632539d5ab"
      },
      "execution_count": 11,
      "outputs": [
        {
          "output_type": "stream",
          "name": "stdout",
          "text": [
            "25 5\n",
            "5\n"
          ]
        }
      ]
    },
    {
      "cell_type": "code",
      "source": [
        ""
      ],
      "metadata": {
        "id": "7noyeZ_gm8zb"
      },
      "execution_count": null,
      "outputs": []
    }
  ]
}