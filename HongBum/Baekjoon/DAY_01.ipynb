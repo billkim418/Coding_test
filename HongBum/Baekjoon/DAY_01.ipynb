{
  "nbformat": 4,
  "nbformat_minor": 0,
  "metadata": {
    "colab": {
      "name": "DAY_04.ipynb",
      "provenance": []
    },
    "kernelspec": {
      "name": "python3",
      "display_name": "Python 3"
    },
    "language_info": {
      "name": "python"
    }
  },
  "cells": [
    {
      "cell_type": "markdown",
      "metadata": {
        "id": "OPvxDBoSdeCZ"
      },
      "source": [
        "# 파이썬 기초 - IF 문 연습"
      ]
    },
    {
      "cell_type": "code",
      "metadata": {
        "colab": {
          "base_uri": "https://localhost:8080/"
        },
        "id": "JL-XfipDTcHw",
        "outputId": "1a0e18da-59d1-4db3-a60c-3abb914622a2"
      },
      "source": [
        "#두 수 비교하기\n",
        "A, B = map(int, input().split())\n",
        "if A  > B:\n",
        "  print(\">\")\n",
        "elif A < B:\n",
        "  print(\"<\")\n",
        "else:\n",
        "  print(\"==\")"
      ],
      "execution_count": 6,
      "outputs": [
        {
          "output_type": "stream",
          "text": [
            "1 2\n",
            "<\n"
          ],
          "name": "stdout"
        }
      ]
    },
    {
      "cell_type": "code",
      "metadata": {
        "colab": {
          "base_uri": "https://localhost:8080/"
        },
        "id": "FfB5Kzaza-iK",
        "outputId": "d1f04bb0-00ca-4215-d685-085611203a17"
      },
      "source": [
        "# 시험 성적\n",
        "test = int(input())\n",
        "if 90 <= test <= 100:\n",
        "  print(\"A\")\n",
        "elif 80 <= test <= 89:\n",
        "  print(\"B\")\n",
        "elif 70 <= test <= 79:\n",
        "  print(\"C\")\n",
        "elif 60 <= test <= 69:\n",
        "  print(\"D\")\n",
        "else:\n",
        "  print(\"F\")"
      ],
      "execution_count": 11,
      "outputs": [
        {
          "output_type": "stream",
          "text": [
            "60\n",
            "D\n"
          ],
          "name": "stdout"
        }
      ]
    },
    {
      "cell_type": "code",
      "metadata": {
        "colab": {
          "base_uri": "https://localhost:8080/"
        },
        "id": "9HFzZxW4d9y1",
        "outputId": "6b66172d-cc17-4b9c-d929-3c4299409cd1"
      },
      "source": [
        "# 윤년\n",
        "year = int(input())\n",
        "if year %  4 == 0 and year % 100 != 0:\n",
        "  print(1)\n",
        "elif year % 4 == 0 and year % 400 == 0:\n",
        "  print(1)\n",
        "else:\n",
        "  print(0)"
      ],
      "execution_count": 14,
      "outputs": [
        {
          "output_type": "stream",
          "text": [
            "2012\n",
            "1\n"
          ],
          "name": "stdout"
        }
      ]
    },
    {
      "cell_type": "code",
      "metadata": {
        "colab": {
          "base_uri": "https://localhost:8080/"
        },
        "id": "DPyhfHXgfYoz",
        "outputId": "30a8fb62-02b7-4f41-fabd-5b504f42a727"
      },
      "source": [
        "#사분면 고르기\n",
        "x = int(input())\n",
        "y = int(input())\n",
        "if x >0 and y >0:\n",
        "  print(1)\n",
        "elif x < 0 and y >0:\n",
        "  print(2)\n",
        "elif x <0 and y <0:\n",
        "  print(3)\n",
        "else:\n",
        "  print(4)"
      ],
      "execution_count": 22,
      "outputs": [
        {
          "output_type": "stream",
          "text": [
            "9\n",
            "-13\n",
            "4\n"
          ],
          "name": "stdout"
        }
      ]
    },
    {
      "cell_type": "code",
      "metadata": {
        "colab": {
          "base_uri": "https://localhost:8080/"
        },
        "id": "WfUrlWe7f-wB",
        "outputId": "fd868a1f-29b8-4c36-8b3c-c4653b953235"
      },
      "source": [
        "# 알람 시계\n",
        "H, M = map(int, input().split())\n",
        "if M-45 <0 and H == 0:\n",
        "  print(23, M+15)\n",
        "elif M-45 <0:\n",
        "  print(H-1, M+15 )\n",
        "else:\n",
        "  print(H, M-45)"
      ],
      "execution_count": 29,
      "outputs": [
        {
          "output_type": "stream",
          "text": [
            "22 55\n",
            "22 10\n"
          ],
          "name": "stdout"
        }
      ]
    },
    {
      "cell_type": "markdown",
      "metadata": {
        "id": "vanhm2X5h7l0"
      },
      "source": [
        ""
      ]
    }
  ]
}