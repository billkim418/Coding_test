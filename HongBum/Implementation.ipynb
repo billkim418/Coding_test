{
  "nbformat": 4,
  "nbformat_minor": 0,
  "metadata": {
    "colab": {
      "name": "구현.ipynb",
      "provenance": [],
      "collapsed_sections": []
    },
    "kernelspec": {
      "name": "python3",
      "display_name": "Python 3"
    },
    "language_info": {
      "name": "python"
    }
  },
  "cells": [
    {
      "cell_type": "markdown",
      "source": [
        "### 구현\n",
        "- 완전 탐색 : 모든 경우의 수를 주저 없이 다 계산하는 해결 방법\n",
        "- 시뮬레이션 : 문제에서 제시한 알고리즘을 한 단계씩 차례대로 직접 수행"
      ],
      "metadata": {
        "id": "G7CLVp4idoPG"
      }
    },
    {
      "cell_type": "markdown",
      "source": [
        "# 아래 문제 구현이 안되서 답지 보고 한건데 nx가 자꾸 선언이 안되었다고 나옴,...이유가 머지.."
      ],
      "metadata": {
        "id": "RoY2YFrjvYBd"
      }
    },
    {
      "cell_type": "code",
      "execution_count": 3,
      "metadata": {
        "id": "Hd6ORxkjcvQZ",
        "colab": {
          "base_uri": "https://localhost:8080/",
          "height": 286
        },
        "outputId": "c027fd6d-9786-4238-bd51-4696c14077dc"
      },
      "outputs": [
        {
          "name": "stdout",
          "output_type": "stream",
          "text": [
            "5\n",
            "R R R U D D\n"
          ]
        },
        {
          "output_type": "error",
          "ename": "NameError",
          "evalue": "ignored",
          "traceback": [
            "\u001b[0;31m---------------------------------------------------------------------------\u001b[0m",
            "\u001b[0;31mNameError\u001b[0m                                 Traceback (most recent call last)",
            "\u001b[0;32m<ipython-input-3-89a409bad679>\u001b[0m in \u001b[0;36m<module>\u001b[0;34m()\u001b[0m\n\u001b[1;32m     18\u001b[0m \u001b[0;34m\u001b[0m\u001b[0m\n\u001b[1;32m     19\u001b[0m     \u001b[0;31m#공간을 벗어나는 경우는 무시\u001b[0m\u001b[0;34m\u001b[0m\u001b[0;34m\u001b[0m\u001b[0;34m\u001b[0m\u001b[0m\n\u001b[0;32m---> 20\u001b[0;31m     \u001b[0;32mif\u001b[0m \u001b[0mnx\u001b[0m \u001b[0;34m<\u001b[0m \u001b[0;36m1\u001b[0m \u001b[0;32mor\u001b[0m \u001b[0mny\u001b[0m \u001b[0;34m<\u001b[0m \u001b[0;36m1\u001b[0m \u001b[0;32mor\u001b[0m \u001b[0mnx\u001b[0m \u001b[0;34m>\u001b[0m \u001b[0mn\u001b[0m \u001b[0;32mor\u001b[0m \u001b[0mny\u001b[0m \u001b[0;34m>\u001b[0m \u001b[0mn\u001b[0m\u001b[0;34m:\u001b[0m\u001b[0;34m\u001b[0m\u001b[0;34m\u001b[0m\u001b[0m\n\u001b[0m\u001b[1;32m     21\u001b[0m       \u001b[0;32mcontinue\u001b[0m\u001b[0;34m\u001b[0m\u001b[0;34m\u001b[0m\u001b[0m\n\u001b[1;32m     22\u001b[0m     \u001b[0;31m# 이동 수행\u001b[0m\u001b[0;34m\u001b[0m\u001b[0;34m\u001b[0m\u001b[0;34m\u001b[0m\u001b[0m\n",
            "\u001b[0;31mNameError\u001b[0m: name 'nx' is not defined"
          ]
        }
      ],
      "source": [
        "# 상하 좌우\n",
        "n = int(input())\n",
        "x, y = 1, 1\n",
        "plans = input().split()\n",
        "\n",
        "# L, R, U, D에 따른 이동 방향\n",
        "dx = [ 0, 0, -1, 1]\n",
        "dy = [-1, 1, 0, 0]\n",
        "move_types = ['L', 'R', 'U', 'D']\n",
        "\n",
        "#이동 계획을 하나씩 확인\n",
        "for plan in plans:\n",
        "  #이동 후 좌표 구하기\n",
        "  for i in range(len(move_types)):\n",
        "    if plan == move_types[i]:\n",
        "      nx = x + dx[i]\n",
        "      ny = y + dy[i]\n",
        "    \n",
        "    #공간을 벗어나는 경우는 무시\n",
        "    if nx < 1 or ny < 1 or nx > n or ny > n:\n",
        "      continue\n",
        "    # 이동 수행\n",
        "    x, y = nx, ny\n",
        "\n",
        "print(x,y)\n"
      ]
    },
    {
      "cell_type": "code",
      "source": [
        "#특정 시각 입력\n",
        "m = int(input())\n",
        "count = 0\n",
        "#문자열으로 숫자를 인식하는 방법 비효율적이지만 자주 사용하게된다..\n",
        "for i in range(m+1):\n",
        "  for j in range(60):\n",
        "    for k in range(60):\n",
        "      if '3' in str(i) + str(j) + str(k):\n",
        "        count += 1\n",
        "print(count) "
      ],
      "metadata": {
        "id": "9oeROV4IeJp3",
        "colab": {
          "base_uri": "https://localhost:8080/"
        },
        "outputId": "c39847a7-bce8-41fc-e82a-9433a5c7e8c3"
      },
      "execution_count": 6,
      "outputs": [
        {
          "output_type": "stream",
          "name": "stdout",
          "text": [
            "4\n",
            "9900\n"
          ]
        }
      ]
    },
    {
      "cell_type": "code",
      "source": [
        "# 왕실의 나이트\n",
        "# 아이디어 : 1번 문제와 비슷하게 바운더리를 주고, 이동가능한 경우를 리스트로 만들어 받아온다.\n",
        "# 맹점 : 이 문제는 처음에 이해를 잘못해서 풀기가 어려웠다.. 그저 8가지 가능성중 몇가지나 이동하는건지를 찾는 문제...\n",
        "input_data = input()\n",
        "row = int(input_data[1])\n",
        "#ord 함수를 통해 아스키코드로 변경해주는건데 잘 이해가 안감\n",
        "column = int(ord(input_data[0])) - int(ord('a')) + 1\n",
        "print(column)\n",
        "\n",
        "#아이디어에서 생각한 8가지 이동 방향 정의\n",
        "steps = [\n",
        "         (-2, -1), (-1, -2), (1, -2), (2, -1),\n",
        "         (2, 1), (1, 2), (-1, 2), (-2, 1)\n",
        "]\n",
        "#이 문제에서 제일 중요한 바운더리 확인 및 이동\n",
        "result = 0\n",
        "for step in steps:\n",
        "  #이동하고자 하는 위치 확인\n",
        "  next_row = row + step[0]\n",
        "  next_column = column + step[1]\n",
        "  #이동이 가능할때만 이동해서 경우의 수를 추가한다.\n",
        "  if next_row >=1 and next_row <=8 and next_column >= 1 and next_column <= 8:\n",
        "    result += 1\n",
        "print(result)"
      ],
      "metadata": {
        "colab": {
          "base_uri": "https://localhost:8080/"
        },
        "id": "5XNge4bVr-Ic",
        "outputId": "fdf50bb8-2f25-4511-ba1d-a52739686a25"
      },
      "execution_count": 15,
      "outputs": [
        {
          "output_type": "stream",
          "name": "stdout",
          "text": [
            "e5\n",
            "5\n",
            "8\n"
          ]
        }
      ]
    },
    {
      "cell_type": "code",
      "source": [
        ""
      ],
      "metadata": {
        "id": "NhQKEbaJxhyD"
      },
      "execution_count": null,
      "outputs": []
    }
  ]
}